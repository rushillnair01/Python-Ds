{
 "cells": [
  {
   "cell_type": "markdown",
   "id": "6f641873-5bb8-4239-b563-35c80d769d1d",
   "metadata": {},
   "source": [
    "# Print Function"
   ]
  },
  {
   "cell_type": "code",
   "execution_count": 3,
   "id": "e465b6a0-f58d-401a-b7ea-1630348b0561",
   "metadata": {},
   "outputs": [
    {
     "name": "stdout",
     "output_type": "stream",
     "text": [
      "hello world\n"
     ]
    }
   ],
   "source": [
    "print('hello world')"
   ]
  },
  {
   "cell_type": "code",
   "execution_count": 4,
   "id": "c4a9e9e3-0305-46a8-969b-143fd7e2219b",
   "metadata": {},
   "outputs": [
    {
     "name": "stdout",
     "output_type": "stream",
     "text": [
      "helo 7 4.5\n"
     ]
    }
   ],
   "source": [
    "print('helo', 7, 4.5) # seperator by default is space"
   ]
  },
  {
   "cell_type": "code",
   "execution_count": 8,
   "id": "83ce79fc-37f6-43ea-b552-f3e74b4e2ff0",
   "metadata": {},
   "outputs": [
    {
     "name": "stdout",
     "output_type": "stream",
     "text": [
      "hellow world/1.4/3.6\n"
     ]
    }
   ],
   "source": [
    "print(\"hellow world\",1.4,3.6, sep = '/')"
   ]
  },
  {
   "cell_type": "code",
   "execution_count": 9,
   "id": "56d8d6e2-ca17-4044-b498-afcabd18ef2b",
   "metadata": {},
   "outputs": [
    {
     "name": "stdout",
     "output_type": "stream",
     "text": [
      "hello\n",
      "world\n"
     ]
    }
   ],
   "source": [
    "print(\"hello\")\n",
    "print(\"world\") # end is by default line change"
   ]
  },
  {
   "cell_type": "code",
   "execution_count": 10,
   "id": "f3da6340-7f4c-4610-a865-84ff63eb5e28",
   "metadata": {},
   "outputs": [
    {
     "name": "stdout",
     "output_type": "stream",
     "text": [
      "hello-world\n"
     ]
    }
   ],
   "source": [
    "print(\"hello\" ,end = '-')\n",
    "print(\"world\")"
   ]
  },
  {
   "cell_type": "markdown",
   "id": "f2d07879-4ace-4781-b25d-21b9d496bf60",
   "metadata": {},
   "source": [
    "# Data Types"
   ]
  },
  {
   "cell_type": "code",
   "execution_count": 11,
   "id": "6993be8e-0b61-46bd-aa62-dca5e4b3656b",
   "metadata": {},
   "outputs": [
    {
     "name": "stdout",
     "output_type": "stream",
     "text": [
      "1\n"
     ]
    }
   ],
   "source": [
    "# Integer (1*10^308 big number python supports)\n",
    "print(1)"
   ]
  },
  {
   "cell_type": "code",
   "execution_count": 13,
   "id": "8760ad20-6ebf-429b-ac4a-093bb43c9fc1",
   "metadata": {},
   "outputs": [
    {
     "name": "stdout",
     "output_type": "stream",
     "text": [
      "8.55\n",
      "1.7e+308\n"
     ]
    }
   ],
   "source": [
    "#Decimal/float (1.7*10^308)\n",
    "print(8.55)\n",
    "print(1.7e308)\n"
   ]
  },
  {
   "cell_type": "code",
   "execution_count": 14,
   "id": "e60abe2b-f3c4-4a92-b59c-014c2746c1e8",
   "metadata": {},
   "outputs": [
    {
     "name": "stdout",
     "output_type": "stream",
     "text": [
      "True\n",
      "False\n"
     ]
    }
   ],
   "source": [
    "#Boolean\n",
    "print(True)\n",
    "print(False)"
   ]
  },
  {
   "cell_type": "code",
   "execution_count": 1,
   "id": "f5d7a95e-f216-4b1d-9539-d71b94ccae5b",
   "metadata": {},
   "outputs": [
    {
     "name": "stdout",
     "output_type": "stream",
     "text": [
      "hello world\n"
     ]
    }
   ],
   "source": [
    "#Text/string\n",
    "print('hello world')"
   ]
  },
  {
   "cell_type": "code",
   "execution_count": 2,
   "id": "0c8a338e-b5fc-47e9-a85a-17db1f88ce00",
   "metadata": {},
   "outputs": [
    {
     "name": "stdout",
     "output_type": "stream",
     "text": [
      "(5+6j)\n"
     ]
    }
   ],
   "source": [
    "#Complex number\n",
    "print(5+6j)"
   ]
  },
  {
   "cell_type": "code",
   "execution_count": 3,
   "id": "559a96b3-6136-4a4a-9da1-23a803f0e4e6",
   "metadata": {},
   "outputs": [
    {
     "name": "stdout",
     "output_type": "stream",
     "text": [
      "[1, 2, 3, 4]\n"
     ]
    }
   ],
   "source": [
    "#List (roughly same as C array)(mutable)\n",
    "print([1,2,3,4])\n"
   ]
  },
  {
   "cell_type": "code",
   "execution_count": 4,
   "id": "509b6393-ded6-492c-8168-1eda2d460327",
   "metadata": {},
   "outputs": [
    {
     "name": "stdout",
     "output_type": "stream",
     "text": [
      "(1, 2, 3, 4)\n"
     ]
    }
   ],
   "source": [
    "#Tuple (immutable)\n",
    "print((1,2,3,4))"
   ]
  },
  {
   "cell_type": "code",
   "execution_count": 5,
   "id": "e8807fd9-c792-47f1-81c9-d73f7ddc2959",
   "metadata": {},
   "outputs": [
    {
     "name": "stdout",
     "output_type": "stream",
     "text": [
      "{1, 2, 3, 4}\n"
     ]
    }
   ],
   "source": [
    "#Sets\n",
    "print({1,2,3,4})"
   ]
  },
  {
   "cell_type": "code",
   "execution_count": 6,
   "id": "059dd690-64c8-4cfb-881c-f13c76f13e4a",
   "metadata": {},
   "outputs": [
    {
     "name": "stdout",
     "output_type": "stream",
     "text": [
      "{'name': 'rushill', 'place': 'bangalore'}\n"
     ]
    }
   ],
   "source": [
    "#Dictionary (key value pairs)\n",
    "print({'name':'rushill','place':'bangalore'})"
   ]
  },
  {
   "cell_type": "code",
   "execution_count": 9,
   "id": "47126d3a-0b31-480f-996a-eeb7fe3e6544",
   "metadata": {},
   "outputs": [
    {
     "data": {
      "text/plain": [
       "float"
      ]
     },
     "execution_count": 9,
     "metadata": {},
     "output_type": "execute_result"
    }
   ],
   "source": [
    "#type fucntion (not a data type)(detects data type)\n",
    "type(9.909)\n"
   ]
  },
  {
   "cell_type": "markdown",
   "id": "84aec048-38dc-4f66-8b43-17779b844e97",
   "metadata": {},
   "source": [
    "# Variables"
   ]
  },
  {
   "cell_type": "code",
   "execution_count": 13,
   "id": "e4bd4087-5c3d-4e3b-aa69-2dbeba5e717f",
   "metadata": {},
   "outputs": [
    {
     "name": "stdout",
     "output_type": "stream",
     "text": [
      "rushill will be a ML engineer\n",
      "15\n"
     ]
    }
   ],
   "source": [
    "#Variables are containers that store information or data \n",
    "name = 'rushill will be a ML engineer'\n",
    "print(name)\n",
    "a = 6\n",
    "b = 9\n",
    "print(a+b)"
   ]
  },
  {
   "cell_type": "raw",
   "id": "203c0f02-4646-429e-ae3e-200ee1bb7d6a",
   "metadata": {},
   "source": [
    ".Dynamic typing(Python)\n",
    "#dont need to tell the data type of the var in python\n",
    "a = 6\n",
    "\n",
    ".Static typing(C,C++)\n",
    "#have to mention the data type of the var\n",
    "int a = 6\n",
    "\n",
    ".Dynamic binding(Python)\n",
    "#variable/var type is not fixed, data type of a var can be changed anywhere\n",
    "a = 5\n",
    "print(a)\n",
    "a = \"rushill\"\n",
    "print(a)\n",
    "\n",
    ".Static binding(C,C++)\n",
    "#variable/var type cant be changed once made\n",
    "\n"
   ]
  },
  {
   "cell_type": "code",
   "execution_count": 15,
   "id": "002f0829-105d-4cf2-a12c-6e91aa9ce073",
   "metadata": {},
   "outputs": [
    {
     "name": "stdout",
     "output_type": "stream",
     "text": [
      "1 2 3\n"
     ]
    }
   ],
   "source": [
    "#creating multiples var at the same time\n",
    "a,b,c = 1,2,3\n",
    "print(a,b,c)"
   ]
  },
  {
   "cell_type": "code",
   "execution_count": 16,
   "id": "67dfa692-fc30-450e-82f5-70f8a72bcb43",
   "metadata": {},
   "outputs": [
    {
     "name": "stdout",
     "output_type": "stream",
     "text": [
      "5 5 5\n"
     ]
    }
   ],
   "source": [
    "#assigning same value to all var\n",
    "a=b=c=5\n",
    "print(a,b,c)"
   ]
  },
  {
   "cell_type": "markdown",
   "id": "9fd8938b-d107-439c-aa89-05ebd9e0e3d6",
   "metadata": {},
   "source": [
    "# Keywords and Identifiers"
   ]
  },
  {
   "cell_type": "raw",
   "id": "90811ea2-95ec-44b7-8d33-920c63b11835",
   "metadata": {},
   "source": [
    ".Compiler - converts program(english) at once to binary\n",
    ".Interpretor - converts line by line of the program to  binary\n",
    "\n",
    "To help conversion, keywords tell what to do on each instruction.\n",
    "like - print,def,elif,if,import,in,is,lambda,raise,return,try,while,with,etc\n",
    "\n",
    "Identifiers: Making own variables,functions,class or names in the program.\n",
    "Rules: 1.Cannot start with a digit \n",
    "2.You can use upper case, lower case and in special chars can only use '_'(underscore)\n",
    "3. Cannot be keywords\n"
   ]
  },
  {
   "cell_type": "code",
   "execution_count": 26,
   "id": "c667b03a-bf84-4312-bc86-11932adc8948",
   "metadata": {},
   "outputs": [
    {
     "name": "stdout",
     "output_type": "stream",
     "text": [
      "rushill\n",
      "nair\n"
     ]
    }
   ],
   "source": [
    "_ = 'rushill'\n",
    "print(_)\n",
    "deF1 = 'nair'\n",
    "print(deF1)"
   ]
  },
  {
   "cell_type": "markdown",
   "id": "5100a7d1-b26f-4795-aa87-e03fab2373a6",
   "metadata": {},
   "source": [
    "# User i/p, simple program"
   ]
  },
  {
   "cell_type": "code",
   "execution_count": 4,
   "id": "55f83f32-6071-4bf7-b9fb-a334016bb665",
   "metadata": {},
   "outputs": [
    {
     "name": "stdin",
     "output_type": "stream",
     "text": [
      "enter first number 3\n",
      "enter second number 4\n"
     ]
    },
    {
     "name": "stdout",
     "output_type": "stream",
     "text": [
      "34\n"
     ]
    }
   ],
   "source": [
    "fnum = (input('enter first number'))\n",
    "snum = (input('enter second number'))\n",
    "sum = fnum + snum\n",
    "print(sum)\n",
    "\n",
    "#when you just take input, python by default stores as str.\n"
   ]
  },
  {
   "cell_type": "markdown",
   "id": "9c004ee0-8833-45e3-a97e-78fd16f8e92e",
   "metadata": {},
   "source": [
    "# Data Type conversion\n"
   ]
  },
  {
   "cell_type": "code",
   "execution_count": 6,
   "id": "de2f7828-31cf-4512-abc6-86ec0e278d94",
   "metadata": {},
   "outputs": [
    {
     "name": "stdout",
     "output_type": "stream",
     "text": [
      "10.6\n"
     ]
    },
    {
     "data": {
      "text/plain": [
       "(int, float)"
      ]
     },
     "execution_count": 6,
     "metadata": {},
     "output_type": "execute_result"
    }
   ],
   "source": [
    "#Implicit type conv (python automatically converts one datatype to another)\n",
    "\n",
    "print(5+5.6)\n",
    "type(5),type(5.6)"
   ]
  },
  {
   "cell_type": "code",
   "execution_count": 8,
   "id": "bb23116d-4e02-4b33-bb18-0b2cdf0b7bca",
   "metadata": {},
   "outputs": [
    {
     "data": {
      "text/plain": [
       "int"
      ]
     },
     "execution_count": 8,
     "metadata": {},
     "output_type": "execute_result"
    }
   ],
   "source": [
    "#Explicit type conv( user has to define the data conversion,as ex int)\n",
    "type(int('4'))\n",
    " "
   ]
  },
  {
   "cell_type": "code",
   "execution_count": 12,
   "id": "b3894b9c-4eaf-4b0c-a099-a4b9cd478da1",
   "metadata": {},
   "outputs": [
    {
     "name": "stdin",
     "output_type": "stream",
     "text": [
      "enter first number 12\n",
      "enter second number 12\n"
     ]
    },
    {
     "name": "stdout",
     "output_type": "stream",
     "text": [
      "24\n"
     ]
    },
    {
     "data": {
      "text/plain": [
       "str"
      ]
     },
     "execution_count": 12,
     "metadata": {},
     "output_type": "execute_result"
    }
   ],
   "source": [
    "fnum = (input('enter first number'))\n",
    "snum = (input('enter second number'))\n",
    "sum = int(fnum) + int(snum)\n",
    "print(sum)\n",
    "type(fnum)\n",
    "# here the fnum datatype remains str, but the new value becomes int\n",
    "#during the sum, the original datatype remains str itself"
   ]
  },
  {
   "cell_type": "markdown",
   "id": "7d9b3425-8679-4bc3-a1d5-12a7abb0b445",
   "metadata": {},
   "source": [
    "# Literals\n",
    "\n",
    "The value stored inside a variable is called literal"
   ]
  },
  {
   "cell_type": "code",
   "execution_count": 15,
   "id": "0e28c676-7e81-403b-ae4c-b8a8a141e43f",
   "metadata": {},
   "outputs": [
    {
     "name": "stdout",
     "output_type": "stream",
     "text": [
      "10 100 200 300\n",
      "10.5 150.0 0.0015\n",
      "0.0 3.14\n"
     ]
    }
   ],
   "source": [
    "a = 0b1010 #binary literals\n",
    "b = 100 #decimal literals\n",
    "c = 0o310 #octal literals\n",
    "d = 0x12c #hexadecimal literals\n",
    "print(a,b,c,d)\n",
    "\n",
    "#Float literal\n",
    "float_1 = 10.5\n",
    "float_2 = 1.5e2 #1.5 * 10^2\n",
    "float_3 = 1.5e-3 #1.5 * 10^-3\n",
    "print(float_1,float_2,float_3)\n",
    "#Complex Literal\n",
    "x = 3.14j\n",
    "print(x.real,x.imag)\n",
    "\n"
   ]
  },
  {
   "cell_type": "code",
   "execution_count": 23,
   "id": "4abbb4e0-cbe2-46b0-825b-8123ac049636",
   "metadata": {},
   "outputs": [
    {
     "name": "stdout",
     "output_type": "stream",
     "text": [
      "this is python\n",
      "this is a python string\n",
      "C\n",
      "this is long string with more letters and maybe more lines as well\n",
      "😀\n",
      "raw \\n string\n"
     ]
    }
   ],
   "source": [
    "string = 'this is python'\n",
    "strings = \"this is a python string\"\n",
    "char = \"C\"\n",
    "multiline = '''this is long string with more letters and maybe more lines as well'''\n",
    "unicode = u\"\\U0001f600\"  #to represent emojis etc\n",
    "raw_str = r\"raw \\n string\" #to represent line change,tab,slash etc\n",
    "print(string)\n",
    "print(strings)\n",
    "print(char)\n",
    "print(multiline)\n",
    "print(unicode)\n",
    "print(raw_str)"
   ]
  },
  {
   "cell_type": "code",
   "execution_count": 27,
   "id": "c1fe04a3-8229-4e5e-aee5-b770b13d1850",
   "metadata": {},
   "outputs": [
    {
     "name": "stdout",
     "output_type": "stream",
     "text": [
      "a: 5\n",
      "b: 10\n"
     ]
    }
   ],
   "source": [
    "#Boolean literal\n",
    "a = True + 4    #True and false is represented as 1 and 0 in python(boolean)\n",
    "b = False + 10\n",
    "\n",
    "print(\"a:\" , a)\n",
    "print(\"b:\" , b)"
   ]
  },
  {
   "cell_type": "code",
   "execution_count": 28,
   "id": "572a2d05-ea22-4adb-af72-a9f9004b2c82",
   "metadata": {},
   "outputs": [
    {
     "name": "stdout",
     "output_type": "stream",
     "text": [
      "None\n"
     ]
    }
   ],
   "source": [
    "#None literal\n",
    "a = None\n",
    "print(a)\n",
    "# to keep a variable as stanby to use later, but want to assign nothing to it using None"
   ]
  },
  {
   "cell_type": "markdown",
   "id": "8ff6e7e9-df77-4e5d-88a2-514b4e731fbb",
   "metadata": {},
   "source": [
    "# Operators\n",
    "\n",
    "1. Arithmetic\n",
    "2. Relational\n",
    "3. Logical\n",
    "4. Bitwise\n",
    "5. Membership\n",
    "6. Assignment"
   ]
  },
  {
   "cell_type": "code",
   "execution_count": 45,
   "id": "c11a5e72-6645-420e-b42a-8cc5c47e8da6",
   "metadata": {},
   "outputs": [
    {
     "name": "stdout",
     "output_type": "stream",
     "text": [
      "11\n",
      "1\n",
      "20\n",
      "2.5\n",
      "2\n",
      "0\n",
      "25\n"
     ]
    }
   ],
   "source": [
    "# operators are tools used to run computation b/w operands\n",
    "#Arithmetic\n",
    "\n",
    "print(5+6)\n",
    "print(6-5)\n",
    "print(5*4)\n",
    "print(5/2)\n",
    "print(5//2) #integer divison(output is always a integer)\n",
    "print(4%2) #modulus, outputs the remainder\n",
    "print(5**2) #power of, exponent (5^2)\n",
    "\n"
   ]
  },
  {
   "cell_type": "code",
   "execution_count": 49,
   "id": "8c4b8b6f-78c2-47de-98ed-16661aec5f83",
   "metadata": {},
   "outputs": [
    {
     "name": "stdout",
     "output_type": "stream",
     "text": [
      "False\n",
      "True\n",
      "True\n",
      "True\n",
      "True\n",
      "False\n"
     ]
    }
   ],
   "source": [
    "#Relational (comparisons)\n",
    "\n",
    "print(4>5) #greater than\n",
    "print(4<5) #lesser than\n",
    "print(4>=4) #greater than or equal\n",
    "print(4<=4) #lesser than or equal\n",
    "print(4!=9) #not equal\n",
    "print(4==2) #is equal to"
   ]
  },
  {
   "cell_type": "code",
   "execution_count": 56,
   "id": "16076edb-8328-4311-ad4d-fa9f27caff16",
   "metadata": {},
   "outputs": [
    {
     "name": "stdout",
     "output_type": "stream",
     "text": [
      "0\n",
      "1\n",
      "False\n"
     ]
    }
   ],
   "source": [
    "#Logical\n",
    "print(1 and 0)  #both shud be 1\n",
    "print(1 or 0)   #either shud be 1\n",
    "print ( not 1 )  #o/p is in boolean, 0 as false\n"
   ]
  },
  {
   "cell_type": "code",
   "execution_count": 68,
   "id": "7f7463c2-04c9-4a37-8eb3-b4ee66beb6d8",
   "metadata": {},
   "outputs": [
    {
     "name": "stdout",
     "output_type": "stream",
     "text": [
      "2\n",
      "3\n",
      "2\n",
      "-2\n",
      "1\n",
      "20\n"
     ]
    }
   ],
   "source": [
    "#Bitwise ( operate on binary)\n",
    "\n",
    "#AND \n",
    "print(2&3) #010 011 applying AND\n",
    "\n",
    "#OR\n",
    "print(2 | 3) \n",
    "\n",
    "#XOR\n",
    "print(1^3)\n",
    "\n",
    "#NOT\n",
    "print(~1)\n",
    "\n",
    "#left shift\n",
    "print(4 >> 2)\n",
    "\n",
    "#right shift\n",
    "print(5 << 2)\n",
    "\n"
   ]
  },
  {
   "cell_type": "code",
   "execution_count": 73,
   "id": "0c491385-aa0f-4ce0-aff0-31f2fdda165a",
   "metadata": {},
   "outputs": [
    {
     "name": "stdout",
     "output_type": "stream",
     "text": [
      "4\n"
     ]
    }
   ],
   "source": [
    "#Assignment operators\n",
    "\n",
    "# = \n",
    "a = 1\n",
    "a+= 3 # a = a+3\n",
    "print(a)"
   ]
  },
  {
   "cell_type": "code",
   "execution_count": 78,
   "id": "ed04c2a8-641b-4936-8f49-ea1a22af36e7",
   "metadata": {},
   "outputs": [
    {
     "name": "stdout",
     "output_type": "stream",
     "text": [
      "True\n",
      "False\n",
      "True\n"
     ]
    }
   ],
   "source": [
    "#Membership\n",
    "\n",
    "#in/ not in\n",
    "\n",
    "print('D' in 'Delhi')\n",
    "print('i' not in 'Delhi')\n",
    "\n",
    "print(1 in [1,2,3,4]) # works on all data types"
   ]
  },
  {
   "cell_type": "code",
   "execution_count": 86,
   "id": "47c3268c-c74b-4498-af57-3899cf57472f",
   "metadata": {},
   "outputs": [
    {
     "name": "stdin",
     "output_type": "stream",
     "text": [
      "enter a 3 digit number 666\n"
     ]
    },
    {
     "name": "stdout",
     "output_type": "stream",
     "text": [
      "18\n"
     ]
    }
   ],
   "source": [
    "#User inputs 3 digit number, individual sum that nummbers digits\n",
    "num = int(input(\"enter a 3 digit number\"))\n",
    "a = num%10  # 5 remainder\n",
    "\n",
    "num = num // 10 #34 qutioent 34.5 but integer division\n",
    "\n",
    "b = num%10 #4 remainder of 34/10 is 4\n",
    "\n",
    "c = num //10 #3 int division of 34 by 10\n",
    "\n",
    "\n",
    "print(a+b+c)\n",
    "\n"
   ]
  },
  {
   "cell_type": "markdown",
   "id": "7cdb527d-1a7d-4255-a219-f7b323fdf8e5",
   "metadata": {},
   "source": [
    "# If-Else Statements "
   ]
  },
  {
   "cell_type": "code",
   "execution_count": 92,
   "id": "62ccac0e-7175-4114-bdc7-11acf54160ee",
   "metadata": {},
   "outputs": [
    {
     "name": "stdin",
     "output_type": "stream",
     "text": [
      "enter email rushillnair45@gmail.com\n",
      "enter password 32\n"
     ]
    },
    {
     "name": "stdout",
     "output_type": "stream",
     "text": [
      "Incorrect password\n"
     ]
    },
    {
     "name": "stdin",
     "output_type": "stream",
     "text": [
      "enter password again 3323\n"
     ]
    },
    {
     "name": "stdout",
     "output_type": "stream",
     "text": [
      "beta rehna de tumse na hoga\n"
     ]
    }
   ],
   "source": [
    "#login program and indentation\n",
    "#email - rushillnair45@gmail.com\n",
    "#pass - 1234\n",
    "\n",
    "email = input(\"enter email\")\n",
    "password = input('enter password')\n",
    "\n",
    "if email == 'rushillnair45@gmail.com' and password == '1234':\n",
    "    print(\"correct entry\")\n",
    "# if more than 2 possibilites, use elif ( else-if)\n",
    "elif email == 'rushillnair45@gmail.com' and password != '1234':\n",
    "    #tell user\n",
    "    print('Incorrect password')\n",
    "    password = input(\"enter password again\")\n",
    "#using if-else inside an if else is called nested if else\n",
    "    if password == '1234':\n",
    "        print('welcome,finally')\n",
    "    else:\n",
    "        print('beta rehna de tumse na hoga')\n",
    "else:\n",
    "    print(\"wrong entry\")"
   ]
  },
  {
   "cell_type": "code",
   "execution_count": 3,
   "id": "fcac80db-bdbe-444c-aa35-55cdd69b7d3a",
   "metadata": {},
   "outputs": [
    {
     "name": "stdin",
     "output_type": "stream",
     "text": [
      "enter first number 3\n",
      "enter second number 4\n",
      "enter third number 5\n"
     ]
    },
    {
     "name": "stdout",
     "output_type": "stream",
     "text": [
      "smallest is 3\n"
     ]
    }
   ],
   "source": [
    "# find the min of 3 given numbers\n",
    "\n",
    "a = int(input(\"enter first number\"))\n",
    "b = int(input(\"enter second number\"))\n",
    "c = int(input(\"enter third number\"))\n",
    "if a<b and a<c:\n",
    "    print(\"smallest is\",a)\n",
    "elif b<c:\n",
    "    print('smallest is',b)\n",
    "else:\n",
    "    print('smallesr is c',c)\n",
    "\n",
    "\n",
    "\n"
   ]
  },
  {
   "cell_type": "code",
   "execution_count": 1,
   "id": "f6e9434b-0395-45cb-accb-39a6b15a0948",
   "metadata": {},
   "outputs": [
    {
     "name": "stdin",
     "output_type": "stream",
     "text": [
      "enter the first number 10\n",
      "enter the second number 2\n",
      "enter the operation *\n"
     ]
    },
    {
     "name": "stdout",
     "output_type": "stream",
     "text": [
      "20\n"
     ]
    }
   ],
   "source": [
    "#menu drive calculator\n",
    "\n",
    "fnum = int(input(\"enter the first number\"))\n",
    "snum = int(input(\"enter the second number\"))\n",
    "\n",
    "op = input(\"enter the operation\")\n",
    "if op == '+':\n",
    "    print(fnum+snum)\n",
    "elif op == '-':\n",
    "    print(fnum-snum)\n",
    "elif op == '*':\n",
    "    print(fnum*snum)\n",
    "else:\n",
    "    print(fnum/snum)\n"
   ]
  },
  {
   "cell_type": "markdown",
   "id": "739643a0-b054-4c68-a1a5-5d9534b1e6d9",
   "metadata": {},
   "source": [
    "### Modules"
   ]
  },
  {
   "cell_type": "code",
   "execution_count": 3,
   "id": "ba7a405a-ba0e-40e5-8b34-63acf43c8eb1",
   "metadata": {},
   "outputs": [
    {
     "data": {
      "text/plain": [
       "2.4474476501040834"
      ]
     },
     "execution_count": 3,
     "metadata": {},
     "output_type": "execute_result"
    }
   ],
   "source": [
    "#math\n",
    "\n",
    "import math\n",
    "\n",
    "math.sqrt(5.99)\n",
    "         "
   ]
  },
  {
   "cell_type": "code",
   "execution_count": 4,
   "id": "568f2a43-f9a2-4d8b-9b98-621941650a8f",
   "metadata": {},
   "outputs": [
    {
     "name": "stdout",
     "output_type": "stream",
     "text": [
      "['False', 'None', 'True', 'and', 'as', 'assert', 'async', 'await', 'break', 'class', 'continue', 'def', 'del', 'elif', 'else', 'except', 'finally', 'for', 'from', 'global', 'if', 'import', 'in', 'is', 'lambda', 'nonlocal', 'not', 'or', 'pass', 'raise', 'return', 'try', 'while', 'with', 'yield']\n"
     ]
    }
   ],
   "source": [
    "#keyword \n",
    "import keyword\n",
    "print(keyword.kwlist)"
   ]
  },
  {
   "cell_type": "code",
   "execution_count": 6,
   "id": "b7d764d2-7e57-47de-8488-fd46e4d6a346",
   "metadata": {},
   "outputs": [
    {
     "name": "stdout",
     "output_type": "stream",
     "text": [
      "43\n"
     ]
    }
   ],
   "source": [
    "#random\n",
    "\n",
    "import random\n",
    "print(random.randint(1,100))"
   ]
  },
  {
   "cell_type": "code",
   "execution_count": 7,
   "id": "0c2a3619-7bd2-49a6-aab4-03853d2b7f02",
   "metadata": {},
   "outputs": [
    {
     "name": "stdout",
     "output_type": "stream",
     "text": [
      "2024-06-15 17:13:53.195671\n"
     ]
    }
   ],
   "source": [
    "#datetime\n",
    "\n",
    "import datetime\n",
    "\n",
    "print(datetime.datetime.now())"
   ]
  },
  {
   "cell_type": "markdown",
   "id": "07b6fca6-6465-4bdb-a1ae-68463290018c",
   "metadata": {},
   "source": [
    "### Loops in Python"
   ]
  },
  {
   "cell_type": "raw",
   "id": "d2ea2059-b094-487a-ab05-f3b68be31559",
   "metadata": {},
   "source": [
    "loops application:  open flipkart, search samsung, number of phones are seen \n",
    "each container shows each phones, each container is made once, and a loop is made to print each image,desc,etc. without the need of individual creation."
   ]
  },
  {
   "cell_type": "code",
   "execution_count": 15,
   "id": "0bf8640f-e3a1-4174-a2cf-2b949337ecf5",
   "metadata": {},
   "outputs": [
    {
     "name": "stdin",
     "output_type": "stream",
     "text": [
      "enter the number 20\n"
     ]
    },
    {
     "name": "stdout",
     "output_type": "stream",
     "text": [
      "20 * 1 = 20\n",
      "20 * 2 = 40\n",
      "20 * 3 = 60\n",
      "20 * 4 = 80\n",
      "20 * 5 = 100\n",
      "20 * 6 = 120\n",
      "20 * 7 = 140\n",
      "20 * 8 = 160\n",
      "20 * 9 = 180\n",
      "20 * 10 = 200\n"
     ]
    }
   ],
   "source": [
    "#While loop (use pythontutor to visualize)\n",
    "#to print multiplication table of a number\n",
    "num = int(input('enter the number'))\n",
    "\n",
    "i = 1 #(iterator)\n",
    "while i<11:   #check whether i is less than num input,keeping runnning till condition is true\n",
    "    print(num, '*',i, '=',num*i) # multiply num with i\n",
    "    i +=1         # go to the next i value\n"
   ]
  },
  {
   "cell_type": "code",
   "execution_count": 16,
   "id": "2a79f6fa-7046-4fa1-a284-0261aa2f85d6",
   "metadata": {},
   "outputs": [
    {
     "name": "stdout",
     "output_type": "stream",
     "text": [
      "1\n",
      "2\n",
      "limit reached\n"
     ]
    }
   ],
   "source": [
    "#while loop with else\n",
    "\n",
    "x = 1\n",
    "\n",
    "while x<3:\n",
    "    print(x)\n",
    "    x = x+1\n",
    "else:\n",
    "    print(\"limit reached\")"
   ]
  },
  {
   "cell_type": "code",
   "execution_count": 34,
   "id": "51ed40e9-462a-4a0d-b5b2-685a704019f0",
   "metadata": {},
   "outputs": [
    {
     "name": "stdin",
     "output_type": "stream",
     "text": [
      "guess karo number 7\n"
     ]
    },
    {
     "name": "stdout",
     "output_type": "stream",
     "text": [
      "wrong, guess higher\n"
     ]
    },
    {
     "name": "stdin",
     "output_type": "stream",
     "text": [
      "guess karo number 8\n"
     ]
    },
    {
     "name": "stdout",
     "output_type": "stream",
     "text": [
      "correct guess\n",
      "attempts 2\n"
     ]
    }
   ],
   "source": [
    "#Guessing game \n",
    "\n",
    "#generate a random integer between 1-100\n",
    "import random \n",
    "jackpot = random.randint(1,10)  #the guessing number\n",
    "\n",
    "guess = int(input('guess karo number'))  #input first guess\n",
    "counter = 1                              #set number of turns(attempts)\n",
    "while guess != jackpot:                   #while the number is not guessed till then run in loop\n",
    "    if guess < jackpot:                   #if guessed number is lower than actual number\n",
    "        print(\"wrong, guess higher\")\n",
    "        \n",
    "    else:\n",
    "        print(\"wrong,guess lower\")\n",
    "        \n",
    "    guess = int(input('guess karo number'))\n",
    "    counter +=1                             #add the attempts\n",
    "        \n",
    "else:\n",
    "    print('correct guess')\n",
    "    print('attempts',counter)\n",
    "    "
   ]
  },
  {
   "cell_type": "code",
   "execution_count": 40,
   "id": "06aa0111-a8b6-4dab-a23d-94f875ac93fb",
   "metadata": {},
   "outputs": [
    {
     "name": "stdout",
     "output_type": "stream",
     "text": [
      "1\n",
      "3\n",
      "5\n",
      "7\n",
      "9\n",
      "*****\n",
      "5\n",
      "4\n",
      "3\n",
      "2\n",
      "1\n"
     ]
    }
   ],
   "source": [
    "# For loop \n",
    "for i in range(1,11,2):  #range(start , end, step size)\n",
    "    print(i)\n",
    "print(\"*****\")\n",
    "for j in range(5,0,-1):\n",
    "    print(j)"
   ]
  },
  {
   "cell_type": "code",
   "execution_count": 54,
   "id": "3e751809-d9d4-46fd-9b54-c32bda3c2237",
   "metadata": {},
   "outputs": [
    {
     "name": "stdout",
     "output_type": "stream",
     "text": [
      "10 10000\n",
      "9 9090.90909090909\n",
      "8 8264.462809917353\n",
      "7 7513.148009015775\n",
      "6 6830.134553650703\n",
      "5 6209.213230591548\n",
      "4 5644.739300537771\n",
      "3 5131.5811823070635\n",
      "2 4665.07380209733\n",
      "1 4240.976183724845\n"
     ]
    }
   ],
   "source": [
    "# the current population is 10,000. pop is increasing by 10%, WAP to find pop at the end of each of the last 10 yrs\n",
    "\n",
    "a = 10000\n",
    "\n",
    "for i in range(10,0,-1):\n",
    "    print(i,a)\n",
    "    \n",
    "    a = a/1.1\n",
    "\n",
    "# x+10% of x = 10000 (x is the 9th yr population),solve this x =1.1"
   ]
  },
  {
   "cell_type": "code",
   "execution_count": 61,
   "id": "a43a52e9-4e13-4ee3-a40e-bb2dee74ff5f",
   "metadata": {},
   "outputs": [
    {
     "name": "stdin",
     "output_type": "stream",
     "text": [
      "enter n 6\n"
     ]
    },
    {
     "name": "stdout",
     "output_type": "stream",
     "text": [
      "the sum is 1.0\n",
      "the sum is 2.0\n",
      "the sum is 2.5\n",
      "the sum is 2.6666666666666665\n",
      "the sum is 2.708333333333333\n",
      "the sum is 2.7166666666666663\n"
     ]
    }
   ],
   "source": [
    "#sequence sum (1/1! + 2/2! + 3/3! + ....nth term (from user))\n",
    "\n",
    "n = int(input(\"enter n\"))\n",
    "result = 0                      #sum\n",
    "fact = 1                        #initally 1\n",
    "for i in range(1,n+1):\n",
    "    fact = fact *i              #multiply the fact with the number in i to get fact value, when i is 1, fact is 1, fact = 1*1, when i = 2 fact is 1 , fact = 2*1 =2, when i = 3, fact = 2, fact = 2*3 = 6 (3!) and so on\n",
    "    result = result + i/fact     #adding the sums\n",
    "    print(\"the sum is\",result)"
   ]
  },
  {
   "cell_type": "markdown",
   "id": "7361361b-646d-49b7-ab2e-6314105d484e",
   "metadata": {},
   "source": [
    "### Nested Loops"
   ]
  },
  {
   "cell_type": "code",
   "execution_count": 62,
   "id": "8a019321-4c45-4287-88b9-848bca604aeb",
   "metadata": {},
   "outputs": [
    {
     "name": "stdout",
     "output_type": "stream",
     "text": [
      "1 1\n",
      "1 2\n",
      "1 3\n",
      "1 4\n",
      "2 1\n",
      "2 2\n",
      "2 3\n",
      "2 4\n",
      "3 1\n",
      "3 2\n",
      "3 3\n",
      "3 4\n",
      "4 1\n",
      "4 2\n",
      "4 3\n",
      "4 4\n"
     ]
    }
   ],
   "source": [
    "#used in cartesian sets applications, where multiple looping is required \n",
    "\n",
    "for i in range(1,5):    #outer loop, this runs first, as 1\n",
    "    for j in range(1,5): #inner loop, this runs 1,2,3,4,5 inside, then it goes back to outer loop to next number and again inner loop is activated\n",
    "        print(i,j)"
   ]
  },
  {
   "cell_type": "raw",
   "id": "bb520d0a-d34f-4beb-aaf3-c925110045b9",
   "metadata": {},
   "source": [
    "*\n",
    "**\n",
    "***\n",
    "pattern 1\n",
    "\n",
    "\n"
   ]
  },
  {
   "cell_type": "code",
   "execution_count": 1,
   "id": "03dc128e-22fa-4a83-8ed5-6a62c457e3ae",
   "metadata": {},
   "outputs": [
    {
     "name": "stdin",
     "output_type": "stream",
     "text": [
      "number of rows 4\n"
     ]
    },
    {
     "name": "stdout",
     "output_type": "stream",
     "text": [
      "*\n",
      "**\n",
      "***\n",
      "****\n"
     ]
    }
   ],
   "source": [
    "n = int(input(\"number of rows\"))\n",
    "\n",
    "for i in range(1,n+1): # loop the rows\n",
    "    \n",
    "    for j in range(1,i+1): # loop the stars\n",
    "        \n",
    "        print(\"*\", end = '') # for j loop\n",
    "    print() # for i loop\n",
    "        \n",
    "        \n",
    "    "
   ]
  },
  {
   "cell_type": "raw",
   "id": "52d9c551-63bb-4711-84b6-f0694953cc06",
   "metadata": {},
   "source": [
    "1\n",
    "121\n",
    "12321\n",
    "1234321\n",
    "\n",
    "pattern 2"
   ]
  },
  {
   "cell_type": "code",
   "execution_count": 4,
   "id": "d249f5f3-703b-4606-b7de-2cf1ac1f0cfa",
   "metadata": {},
   "outputs": [
    {
     "name": "stdin",
     "output_type": "stream",
     "text": [
      "enter the number of rows 4\n"
     ]
    },
    {
     "name": "stdout",
     "output_type": "stream",
     "text": [
      "1\n",
      "121\n",
      "12321\n",
      "1234321\n"
     ]
    }
   ],
   "source": [
    "n = int(input(\"enter the number of rows\"))\n",
    "\n",
    "for i in range(1,n+1):       #rows \n",
    "    for j in range(1,i+1):   # number in each row \n",
    "        print(j,end = '')\n",
    "    for k in range(i-1,0,-1):  #negative loop, staring from max comes to min\n",
    "        print(k,end='') \n",
    "    print()"
   ]
  },
  {
   "cell_type": "markdown",
   "id": "b9a8bd87-8a2a-49d8-bc71-7dea53598a27",
   "metadata": {},
   "source": [
    "### Loop Control Statement\n",
    "### Break\n",
    "### Continue\n",
    "### Pass"
   ]
  },
  {
   "cell_type": "code",
   "execution_count": 7,
   "id": "43473637-5afe-4ddc-8535-cc8c22835d11",
   "metadata": {},
   "outputs": [
    {
     "name": "stdout",
     "output_type": "stream",
     "text": [
      "1\n",
      "2\n",
      "3\n",
      "4\n"
     ]
    }
   ],
   "source": [
    "#break ( to break the flow of loop)\n",
    "for i in range(1,10):\n",
    "    if i ==5:\n",
    "        break\n",
    "    print(i)\n",
    "# used in linear searching"
   ]
  },
  {
   "cell_type": "code",
   "execution_count": 9,
   "id": "a0db3313-c651-42ca-a3ef-530a77ebc6ef",
   "metadata": {},
   "outputs": [
    {
     "name": "stdin",
     "output_type": "stream",
     "text": [
      "enter lower range 10\n",
      "enter upper range 100\n"
     ]
    },
    {
     "name": "stdout",
     "output_type": "stream",
     "text": [
      "11\n",
      "13\n",
      "17\n",
      "19\n",
      "23\n",
      "29\n",
      "31\n",
      "37\n",
      "41\n",
      "43\n",
      "47\n",
      "53\n",
      "59\n",
      "61\n",
      "67\n",
      "71\n",
      "73\n",
      "79\n",
      "83\n",
      "89\n",
      "97\n"
     ]
    }
   ],
   "source": [
    "# user will give a range, print all the prime numbers b/w it\n",
    "\n",
    "lower = int(input('enter lower range'))\n",
    "upper = int(input('enter upper range'))\n",
    "\n",
    "for i in range(lower,upper+1):\n",
    "    for j in range(2,i):\n",
    "        if i%j == 0:\n",
    "            break\n",
    "    else:\n",
    "        print(i)"
   ]
  },
  {
   "cell_type": "code",
   "execution_count": 10,
   "id": "4a8b874a-479a-447d-95e6-9cb28e024b43",
   "metadata": {},
   "outputs": [
    {
     "name": "stdout",
     "output_type": "stream",
     "text": [
      "1\n",
      "2\n",
      "3\n",
      "4\n",
      "6\n",
      "7\n",
      "8\n",
      "9\n"
     ]
    }
   ],
   "source": [
    "#Continue\n",
    "\n",
    "for i in range(1,10):\n",
    "    if i == 5:\n",
    "        continue          #skips iteration at given i value\n",
    "    print(i)\n",
    "\n",
    "#to skip products in ecommerce websites, like to skip prouduct with zero stock."
   ]
  },
  {
   "cell_type": "code",
   "execution_count": 12,
   "id": "5a61134d-1906-4465-b6c1-486e7efa80b1",
   "metadata": {},
   "outputs": [],
   "source": [
    "#Pass (doesnt throw error when written)\n",
    "\n",
    "for i in range(1,10):\n",
    "    pass"
   ]
  },
  {
   "cell_type": "markdown",
   "id": "f6f36439-9955-4d20-8fd8-eaeb9ef4dd11",
   "metadata": {},
   "source": [
    "### Strings are sequence of chars\n",
    "\n",
    "### In python strings are a sequence of unicode characters\n",
    "1. creating strings\n",
    "2. accessing strings\n",
    "3. adding chars to strings\n",
    "4. editing strings\n",
    "5. deleting string\n",
    "6. operations on strings\n",
    "7. string fucntions\n",
    "\n",
    "###### ASCII was 8bit,very less\n",
    "###### unicode is 2^16 bit sequences to store more data"
   ]
  },
  {
   "cell_type": "code",
   "execution_count": 15,
   "id": "33fe631f-64d7-40a4-a15a-3e2115443b6a",
   "metadata": {},
   "outputs": [
    {
     "name": "stdout",
     "output_type": "stream",
     "text": [
      "hello\n"
     ]
    }
   ],
   "source": [
    "# Creating strings\n",
    "\n",
    "s = 'hello'\n",
    "s = \"it's hello\"    #to avoid confusion with inverted comma inside the string\n",
    "s = '''hello'''     #multiline strings\n",
    "s = str(\"hello\")    # type conversion\n",
    "print(s)"
   ]
  },
  {
   "cell_type": "code",
   "execution_count": 22,
   "id": "ed045c8a-c23c-459f-83f5-cbcf782d1c3b",
   "metadata": {},
   "outputs": [
    {
     "name": "stdout",
     "output_type": "stream",
     "text": [
      "o\n",
      "r\n"
     ]
    }
   ],
   "source": [
    "#Accessing substrings from a string\n",
    "\n",
    "s = 'hello world' # python assigns index starting from 0 to n (positive index)\n",
    "print(s[7])       #from left to right index is +ve index\n",
    "print(s[-3])\n",
    "                  #from right to left index is -ve index(starts from -1)"
   ]
  },
  {
   "cell_type": "code",
   "execution_count": 58,
   "id": "817ddbdb-c523-4331-a736-16bf876321ab",
   "metadata": {},
   "outputs": [
    {
     "name": "stdout",
     "output_type": "stream",
     "text": [
      "rus\n",
      "ushill nair\n",
      "rhla\n",
      "llihsu\n",
      "rian llihsur\n",
      "ra l\n"
     ]
    }
   ],
   "source": [
    "#String Slicing(start:end:stepsize)\n",
    "\n",
    "s = 'rushill nair'\n",
    "print(s[0:3])     #from 0 element to 2nd element\n",
    "print(s[1:])      #from 1 element to end(skips element before 1\n",
    "print(s[0::3])   #from 0 to 5 elemnt and skips 1 element (element skip = septsize-1) considerate of the spaces as well\n",
    "print(s[6:0:-1])  #when stepsize is negative, the first element shud be greater \n",
    "print(s[::-1])    # to reverse string\n",
    "print(s[-1:-8:-2])"
   ]
  },
  {
   "cell_type": "code",
   "execution_count": 52,
   "id": "ea432384-3001-44d4-adbb-ce8368a67522",
   "metadata": {},
   "outputs": [
    {
     "ename": "TypeError",
     "evalue": "'str' object does not support item assignment",
     "output_type": "error",
     "traceback": [
      "\u001b[1;31m---------------------------------------------------------------------------\u001b[0m",
      "\u001b[1;31mTypeError\u001b[0m                                 Traceback (most recent call last)",
      "Cell \u001b[1;32mIn[52], line 4\u001b[0m\n\u001b[0;32m      1\u001b[0m \u001b[38;5;66;03m#Editing and deleting strings\u001b[39;00m\n\u001b[0;32m      3\u001b[0m s \u001b[38;5;241m=\u001b[39m \u001b[38;5;124m'\u001b[39m\u001b[38;5;124mhello world\u001b[39m\u001b[38;5;124m'\u001b[39m\n\u001b[1;32m----> 4\u001b[0m s[\u001b[38;5;241m0\u001b[39m] \u001b[38;5;241m=\u001b[39m \u001b[38;5;124m'\u001b[39m\u001b[38;5;124mH\u001b[39m\u001b[38;5;124m'\u001b[39m\n",
      "\u001b[1;31mTypeError\u001b[0m: 'str' object does not support item assignment"
     ]
    }
   ],
   "source": [
    "#Editing and deleting strings\n",
    "\n",
    "s = 'hello world'\n",
    "s[0] = 'H'\n",
    "#python strings are immutable, cannot be changed once made"
   ]
  },
  {
   "cell_type": "code",
   "execution_count": 59,
   "id": "3bb807e6-d0b6-41d2-91b7-0e145801eaad",
   "metadata": {},
   "outputs": [
    {
     "ename": "NameError",
     "evalue": "name 's' is not defined",
     "output_type": "error",
     "traceback": [
      "\u001b[1;31m---------------------------------------------------------------------------\u001b[0m",
      "\u001b[1;31mNameError\u001b[0m                                 Traceback (most recent call last)",
      "Cell \u001b[1;32mIn[59], line 3\u001b[0m\n\u001b[0;32m      1\u001b[0m s \u001b[38;5;241m=\u001b[39m \u001b[38;5;124m'\u001b[39m\u001b[38;5;124mhello world\u001b[39m\u001b[38;5;124m'\u001b[39m\n\u001b[0;32m      2\u001b[0m \u001b[38;5;28;01mdel\u001b[39;00m(s)  \u001b[38;5;66;03m#delete\u001b[39;00m\n\u001b[1;32m----> 3\u001b[0m \u001b[38;5;28mprint\u001b[39m(s) \n\u001b[0;32m      4\u001b[0m \u001b[38;5;28;01mdel\u001b[39;00m s[\u001b[38;5;241m-\u001b[39m\u001b[38;5;241m1\u001b[39m:\u001b[38;5;241m-\u001b[39m\u001b[38;5;241m4\u001b[39m:\u001b[38;5;241m-\u001b[39m\u001b[38;5;241m2\u001b[39m]\n",
      "\u001b[1;31mNameError\u001b[0m: name 's' is not defined"
     ]
    }
   ],
   "source": [
    "s = 'hello world'\n",
    "del(s)  #delete\n",
    "print(s) \n",
    "del s[-1:-4:-2]\n",
    "#only full string delete happens, partial delete does not happpen"
   ]
  },
  {
   "cell_type": "markdown",
   "id": "8eee3b11-8e73-42a6-b461-a8341639d5b9",
   "metadata": {},
   "source": [
    "### String Operations\n",
    "1. arithmetic\n",
    "2. relational\n",
    "3. logical\n",
    "4. loops\n",
    "5. membership"
   ]
  },
  {
   "cell_type": "code",
   "execution_count": 2,
   "id": "e8b7db51-6783-474e-be64-be5cba01bc42",
   "metadata": {},
   "outputs": [
    {
     "name": "stdout",
     "output_type": "stream",
     "text": [
      "delhimumbai\n",
      "delhidelhidelhidelhidelhi\n"
     ]
    }
   ],
   "source": [
    "#arithmetic\n",
    "print('delhi'+'mumbai')\n",
    "print('delhi' *5)"
   ]
  },
  {
   "cell_type": "code",
   "execution_count": 12,
   "id": "09a40fe7-5cdb-4c0e-83b9-ac591e599216",
   "metadata": {},
   "outputs": [
    {
     "data": {
      "text/plain": [
       "(False, True, False)"
      ]
     },
     "execution_count": 12,
     "metadata": {},
     "output_type": "execute_result"
    }
   ],
   "source": [
    "#relational (it is done based on the ASCII values of each letter(lexiographic)\n",
    "a='delhi'!='delhi'\n",
    "b='delhi'<'mumbai'\n",
    "c = 'Pune'>'pune'\n",
    "a,b,c"
   ]
  },
  {
   "cell_type": "code",
   "execution_count": 16,
   "id": "aab70482-46b5-4ae6-bb74-efaf7244f09c",
   "metadata": {},
   "outputs": [
    {
     "data": {
      "text/plain": [
       "('world', 'hello', 'hello', '')"
      ]
     },
     "execution_count": 16,
     "metadata": {},
     "output_type": "execute_result"
    }
   ],
   "source": [
    "#Logical (if string has chars, it is true, if it is empty it is false)\n",
    "a='hello'and'world' #checks both 1st and 2nd, since and it will verify both and print the last one verified if both are verified same\n",
    "b='hello'or'world' #checks 1st, then checks OR, so it doesnt matter which one prints so it doesnt check the next  one and prints the first one itself\n",
    "c='hello'or''\n",
    "d='hello'and''\n",
    "a,b,c,d\n"
   ]
  },
  {
   "cell_type": "code",
   "execution_count": 17,
   "id": "7641b7f6-7498-493e-83ad-691492beb0e1",
   "metadata": {},
   "outputs": [
    {
     "name": "stdout",
     "output_type": "stream",
     "text": [
      "h\n",
      "e\n",
      "l\n",
      "l\n",
      "o\n"
     ]
    }
   ],
   "source": [
    "#loops run on strings as strings are iterable\n",
    "for i in 'hello':\n",
    "    print(i)"
   ]
  },
  {
   "cell_type": "code",
   "execution_count": 18,
   "id": "b6ad26c2-9653-47b1-b345-8d350dbcf845",
   "metadata": {},
   "outputs": [
    {
     "name": "stdout",
     "output_type": "stream",
     "text": [
      "pune\n",
      "pune\n",
      "pune\n",
      "pune\n",
      "pune\n"
     ]
    }
   ],
   "source": [
    "for i in 'delhi': #acts like for the number of chars in delhi, print pune\n",
    "    print('pune')"
   ]
  },
  {
   "cell_type": "code",
   "execution_count": 20,
   "id": "74358535-8ba1-4306-8361-9819bef183de",
   "metadata": {},
   "outputs": [
    {
     "data": {
      "text/plain": [
       "True"
      ]
     },
     "execution_count": 20,
     "metadata": {},
     "output_type": "execute_result"
    }
   ],
   "source": [
    "#membership operators(in , not in: case sensitive)\n",
    "'h' in 'delhi'"
   ]
  },
  {
   "cell_type": "markdown",
   "id": "e766a9f7-b046-44a4-ba71-e38e12ba47d7",
   "metadata": {},
   "source": [
    "# String Functions (these work on any datatype)\n",
    "## as strings are immutable,these functions dont cause any chnages in original strings, it forms a new string with these functions\n",
    "1. len\n",
    "2. max\n",
    "3. min\n",
    "4. sorted\n",
    "### These are only on strings\n",
    "1. capitalize/title/upper/lower/swapcase\n",
    "2. count/find/index\n",
    "3. endswith/startswith\n",
    "4. format\n",
    "5. isalnum/isalpha/isdigit/isidentifier"
   ]
  },
  {
   "cell_type": "code",
   "execution_count": 21,
   "id": "fb25a003-1691-42e2-ad15-1d1a4d6f4e2d",
   "metadata": {},
   "outputs": [
    {
     "data": {
      "text/plain": [
       "11"
      ]
     },
     "execution_count": 21,
     "metadata": {},
     "output_type": "execute_result"
    }
   ],
   "source": [
    "#len(counts lenght including spaces)\n",
    "len('hello world')"
   ]
  },
  {
   "cell_type": "code",
   "execution_count": 22,
   "id": "98737844-2d03-4ec6-8740-b5b09b56d54d",
   "metadata": {},
   "outputs": [
    {
     "data": {
      "text/plain": [
       "'o'"
      ]
     },
     "execution_count": 22,
     "metadata": {},
     "output_type": "execute_result"
    }
   ],
   "source": [
    "#max (max value based on ascii )\n",
    "max('hello')"
   ]
  },
  {
   "cell_type": "code",
   "execution_count": 23,
   "id": "0f9f6ce6-86e4-40c8-b86f-34e7cb50499a",
   "metadata": {},
   "outputs": [
    {
     "data": {
      "text/plain": [
       "'d'"
      ]
     },
     "execution_count": 23,
     "metadata": {},
     "output_type": "execute_result"
    }
   ],
   "source": [
    "#min(min value based on ascii)(space is minimum)\n",
    "min('gold')"
   ]
  },
  {
   "cell_type": "code",
   "execution_count": 25,
   "id": "6576a191-5ea3-4188-8167-27091c173c4f",
   "metadata": {},
   "outputs": [
    {
     "data": {
      "text/plain": [
       "['w', 'r', 'o', 'o', 'l', 'l', 'l', 'h', 'e', 'd', ' ']"
      ]
     },
     "execution_count": 25,
     "metadata": {},
     "output_type": "execute_result"
    }
   ],
   "source": [
    "#sorted(sorts in asc order by default based on ascii in a list, reverse makes it sort in desc)\n",
    "sorted('hello world',reverse = True)"
   ]
  },
  {
   "cell_type": "code",
   "execution_count": 26,
   "id": "ab0c86e2-14dc-4c27-ba5d-b5cd3cafeaad",
   "metadata": {},
   "outputs": [
    {
     "data": {
      "text/plain": [
       "'Hello world'"
      ]
     },
     "execution_count": 26,
     "metadata": {},
     "output_type": "execute_result"
    }
   ],
   "source": [
    "#capitalize/title/upper/lower/swapcase\n",
    "\n",
    "s = 'hello woRld'\n",
    "s.capitalize() #first letter capital\n"
   ]
  },
  {
   "cell_type": "code",
   "execution_count": 27,
   "id": "8648faa4-19db-4714-bf4f-56fad1566be8",
   "metadata": {},
   "outputs": [
    {
     "data": {
      "text/plain": [
       "'Hello World'"
      ]
     },
     "execution_count": 27,
     "metadata": {},
     "output_type": "execute_result"
    }
   ],
   "source": [
    "s.title() #first letter of each word capital"
   ]
  },
  {
   "cell_type": "code",
   "execution_count": 28,
   "id": "23799683-ab9e-4260-baa3-1732d213c812",
   "metadata": {},
   "outputs": [
    {
     "data": {
      "text/plain": [
       "'HELLO WORLD'"
      ]
     },
     "execution_count": 28,
     "metadata": {},
     "output_type": "execute_result"
    }
   ],
   "source": [
    "s.upper() #makes everything lower"
   ]
  },
  {
   "cell_type": "code",
   "execution_count": 29,
   "id": "626c407d-893f-44b4-8f28-75a459e1024c",
   "metadata": {},
   "outputs": [
    {
     "data": {
      "text/plain": [
       "'hello world'"
      ]
     },
     "execution_count": 29,
     "metadata": {},
     "output_type": "execute_result"
    }
   ],
   "source": [
    "s.lower() #makes it lowercase"
   ]
  },
  {
   "cell_type": "code",
   "execution_count": 34,
   "id": "e6e0f0f9-869e-4250-b4f2-bafd2287ec80",
   "metadata": {},
   "outputs": [
    {
     "data": {
      "text/plain": [
       "'HElLO WOrLd'"
      ]
     },
     "execution_count": 34,
     "metadata": {},
     "output_type": "execute_result"
    }
   ],
   "source": [
    "'heLlo woRlD'.swapcase() #makes upper to lower and vice versa"
   ]
  },
  {
   "cell_type": "code",
   "execution_count": 35,
   "id": "9ba982f5-c843-4b60-81f2-fd06f7698b5d",
   "metadata": {},
   "outputs": [
    {
     "data": {
      "text/plain": [
       "2"
      ]
     },
     "execution_count": 35,
     "metadata": {},
     "output_type": "execute_result"
    }
   ],
   "source": [
    "#count/find/index\n",
    "\n",
    "'my name is rushill'.count('i') #counts number of substrings in a string"
   ]
  },
  {
   "cell_type": "code",
   "execution_count": 37,
   "id": "38434d6c-ad71-403f-9490-0ca7b1d2473e",
   "metadata": {},
   "outputs": [
    {
     "data": {
      "text/plain": [
       "8"
      ]
     },
     "execution_count": 37,
     "metadata": {},
     "output_type": "execute_result"
    }
   ],
   "source": [
    "'my name is rushill'.find('is') #finds index of substring "
   ]
  },
  {
   "cell_type": "code",
   "execution_count": 39,
   "id": "0c1e74f8-8e1e-4a9d-9a81-3921c0c14b88",
   "metadata": {},
   "outputs": [
    {
     "data": {
      "text/plain": [
       "11"
      ]
     },
     "execution_count": 39,
     "metadata": {},
     "output_type": "execute_result"
    }
   ],
   "source": [
    "'my name is nitish'.index('nitish') #similiar to find"
   ]
  },
  {
   "cell_type": "code",
   "execution_count": 40,
   "id": "172e2d57-9f9e-4961-855f-25cb733df7a3",
   "metadata": {},
   "outputs": [
    {
     "data": {
      "text/plain": [
       "-1"
      ]
     },
     "execution_count": 40,
     "metadata": {},
     "output_type": "execute_result"
    }
   ],
   "source": [
    "'my name is rushill'.find('x') #in find if the substring is not present it shows -1 in index it throws error "
   ]
  },
  {
   "cell_type": "code",
   "execution_count": 47,
   "id": "9e6a50e4-cf19-47e0-810d-b0afd7cdcb7f",
   "metadata": {},
   "outputs": [
    {
     "data": {
      "text/plain": [
       "(True, False)"
      ]
     },
     "execution_count": 47,
     "metadata": {},
     "output_type": "execute_result"
    }
   ],
   "source": [
    "#endswith\n",
    "a='my name is rushill'.endswith('hill')\n",
    "b='my name is rushill'.startswith('r')\n",
    "a,b"
   ]
  },
  {
   "cell_type": "code",
   "execution_count": 51,
   "id": "bba9ef8e-be19-43ec-8f25-0dde57c5f27d",
   "metadata": {},
   "outputs": [
    {
     "data": {
      "text/plain": [
       "'hi my name is rushill and im a male'"
      ]
     },
     "execution_count": 51,
     "metadata": {},
     "output_type": "execute_result"
    }
   ],
   "source": [
    "#format(inserts variable value inside a string or sentences)(order matters)\n",
    "name = 'rushill'\n",
    "gender = 'male'\n",
    "'hi my name is {1} and im a {0}'.format(gender,name) #u can decide the position by using index"
   ]
  },
  {
   "cell_type": "code",
   "execution_count": 52,
   "id": "dbe5523b-32f1-4e95-b08a-d212750dbf5b",
   "metadata": {},
   "outputs": [
    {
     "data": {
      "text/plain": [
       "True"
      ]
     },
     "execution_count": 52,
     "metadata": {},
     "output_type": "execute_result"
    }
   ],
   "source": [
    "#isalnum(alpha numeric)(doesnt support special chars)\n",
    "'rushill01'.isalnum()"
   ]
  },
  {
   "cell_type": "code",
   "execution_count": 53,
   "id": "5e495851-8777-466d-af6d-8353cfcf7ab3",
   "metadata": {},
   "outputs": [
    {
     "data": {
      "text/plain": [
       "True"
      ]
     },
     "execution_count": 53,
     "metadata": {},
     "output_type": "execute_result"
    }
   ],
   "source": [
    "'rushillnair'.isalpha()"
   ]
  },
  {
   "cell_type": "code",
   "execution_count": 55,
   "id": "0a171e75-efd7-44f3-a164-d89f80d134eb",
   "metadata": {},
   "outputs": [
    {
     "data": {
      "text/plain": [
       "False"
      ]
     },
     "execution_count": 55,
     "metadata": {},
     "output_type": "execute_result"
    }
   ],
   "source": [
    "'1234a'.isdigit()"
   ]
  },
  {
   "cell_type": "code",
   "execution_count": 78,
   "id": "6c435d66-455e-4dad-a340-960d9cd054f0",
   "metadata": {},
   "outputs": [
    {
     "data": {
      "text/plain": [
       "True"
      ]
     },
     "execution_count": 78,
     "metadata": {},
     "output_type": "execute_result"
    }
   ],
   "source": [
    "'False'.isidentifier() #follows rules of making identifer"
   ]
  },
  {
   "cell_type": "code",
   "execution_count": 65,
   "id": "0eaa324f-bad3-4c71-93ca-485b0698b28a",
   "metadata": {},
   "outputs": [
    {
     "data": {
      "text/plain": [
       "['my name ', 's rush', 'll na', 'r']"
      ]
     },
     "execution_count": 65,
     "metadata": {},
     "output_type": "execute_result"
    }
   ],
   "source": [
    "#split(makes string pieces and puts it in a list)(wherever specified substring is there, it breaks it there, default is on space)\n",
    "\n",
    "'my name is rushill nair'.split('i')"
   ]
  },
  {
   "cell_type": "code",
   "execution_count": 68,
   "id": "7777d07d-29ce-4e84-95f0-6424ce9955d5",
   "metadata": {},
   "outputs": [
    {
     "data": {
      "text/plain": [
       "'hi you lo'"
      ]
     },
     "execution_count": 68,
     "metadata": {},
     "output_type": "execute_result"
    }
   ],
   "source": [
    "#join(assign based on what u want to join the strings present in the array)\n",
    "\" \".join(['hi','you','lo'])"
   ]
  },
  {
   "cell_type": "code",
   "execution_count": 69,
   "id": "1bf9a3c7-ca41-4359-8959-768b81a6cb84",
   "metadata": {},
   "outputs": [
    {
     "data": {
      "text/plain": [
       "'hi my name is nitish'"
      ]
     },
     "execution_count": 69,
     "metadata": {},
     "output_type": "execute_result"
    }
   ],
   "source": [
    "#replace\n",
    "'hi my name is rushill'.replace('rushill','nitish')"
   ]
  },
  {
   "cell_type": "code",
   "execution_count": 73,
   "id": "fd5d64f3-d46c-4b71-a8aa-08fb7281ec84",
   "metadata": {},
   "outputs": [
    {
     "data": {
      "text/plain": [
       "'nitish'"
      ]
     },
     "execution_count": 73,
     "metadata": {},
     "output_type": "execute_result"
    }
   ],
   "source": [
    "#strip(removes trailing spaces between substrings)\n",
    "\n",
    "'nitish                  '.strip()\n"
   ]
  },
  {
   "cell_type": "markdown",
   "id": "7ac024c7-c0f4-4bdb-8c8c-5fb6352d0874",
   "metadata": {},
   "source": [
    "# Problems to code on strings"
   ]
  },
  {
   "cell_type": "code",
   "execution_count": 1,
   "id": "540b0b91-35b8-4078-b496-8e60539e3709",
   "metadata": {},
   "outputs": [
    {
     "name": "stdin",
     "output_type": "stream",
     "text": [
      "enter the string hello\n"
     ]
    },
    {
     "name": "stdout",
     "output_type": "stream",
     "text": [
      "length of string is 5\n"
     ]
    }
   ],
   "source": [
    "#find the len of a given string without using len() function\n",
    "\n",
    "s = input('enter the string')\n",
    "counter = 0\n",
    "for i in s:\n",
    "    counter +=1\n",
    "print('length of string is',counter)"
   ]
  },
  {
   "cell_type": "code",
   "execution_count": 2,
   "id": "db34eb84-9d02-44b2-a3dd-6c9166e3632a",
   "metadata": {},
   "outputs": [
    {
     "name": "stdin",
     "output_type": "stream",
     "text": [
      "enter the email rushill@gmail\n"
     ]
    },
    {
     "name": "stdout",
     "output_type": "stream",
     "text": [
      "7\n",
      "rushill\n"
     ]
    }
   ],
   "source": [
    "#extract the given name from the string\n",
    "s = input(\"enter the email\")\n",
    "\n",
    "print(s.index('@'))\n",
    "pos = s.index('@')\n",
    "print(s[0:pos])\n"
   ]
  },
  {
   "cell_type": "code",
   "execution_count": 5,
   "id": "89689fc1-569e-400b-96b9-fa9626596557",
   "metadata": {},
   "outputs": [
    {
     "name": "stdin",
     "output_type": "stream",
     "text": [
      "enter the string hello hi hey\n",
      "what do u want to search h\n"
     ]
    },
    {
     "name": "stdout",
     "output_type": "stream",
     "text": [
      "freqency  3\n"
     ]
    }
   ],
   "source": [
    "#count the frequency of a particular character\n",
    "\n",
    "s = input('enter the string')\n",
    "term = input('what do u want to search')\n",
    "\n",
    "counter = 0\n",
    "for i in s:\n",
    "    if i == term:\n",
    "        counter+=1\n",
    "print('freqency ',counter)"
   ]
  },
  {
   "cell_type": "code",
   "execution_count": 7,
   "id": "5e182d98-ef8d-4bca-bf8f-daeb515a986f",
   "metadata": {},
   "outputs": [
    {
     "name": "stdin",
     "output_type": "stream",
     "text": [
      "enter ur string what\n",
      "enter what u want to remove a\n"
     ]
    },
    {
     "name": "stdout",
     "output_type": "stream",
     "text": [
      " wht\n"
     ]
    }
   ],
   "source": [
    "#to remove a particular character from a string\n",
    "\n",
    "s = input('enter ur string')\n",
    "term = input('enter what u want to remove')\n",
    "\n",
    "result = ' '\n",
    "\n",
    "for i in s:\n",
    "    if i != term:\n",
    "        result = result+i\n",
    "print(result)"
   ]
  },
  {
   "cell_type": "code",
   "execution_count": 15,
   "id": "55199044-3289-4942-a61d-0e90849d247e",
   "metadata": {},
   "outputs": [
    {
     "name": "stdin",
     "output_type": "stream",
     "text": [
      "enter ur string abba\n"
     ]
    },
    {
     "name": "stdout",
     "output_type": "stream",
     "text": [
      "string is palindrome\n"
     ]
    }
   ],
   "source": [
    "#check whether the given string is a palindrome\n",
    "\n",
    "s = input('enter ur string')\n",
    "\n",
    "pal = s[::-1]\n",
    "if s == pal:\n",
    "    print('string is palindrome')\n",
    "else:\n",
    "    print('not a palindrome')"
   ]
  },
  {
   "cell_type": "code",
   "execution_count": 16,
   "id": "5cf45b39-1dba-4115-8436-ddbefcd3fdd7",
   "metadata": {},
   "outputs": [
    {
     "name": "stdin",
     "output_type": "stream",
     "text": [
      "enter ur string abba\n"
     ]
    },
    {
     "name": "stdout",
     "output_type": "stream",
     "text": [
      "Palindrome\n"
     ]
    }
   ],
   "source": [
    "#method 2 for palindrome\n",
    "s = input('enter ur string')\n",
    "flag = True\n",
    "for i in range(0,len(s)//2):\n",
    "    if s[i] != s[len(s) - i -1]: #checks for inital and ending element, 2nd and last 2nd element and so on\n",
    "        flag = False\n",
    "        break\n",
    "if flag:\n",
    "    print('Palindrome')\n"
   ]
  },
  {
   "cell_type": "code",
   "execution_count": 33,
   "id": "8bec0ab0-8087-4ef5-955f-42ef90a913e2",
   "metadata": {},
   "outputs": [
    {
     "name": "stdin",
     "output_type": "stream",
     "text": [
      "enter a string hi hello\n"
     ]
    },
    {
     "name": "stdout",
     "output_type": "stream",
     "text": [
      "[' hi', 'hello']\n"
     ]
    }
   ],
   "source": [
    "#write a program to count number of words in a string w/o split()\n",
    "\n",
    "s = input('enter a string')\n",
    "L = []\n",
    "temp = ' '\n",
    "for i in s:\n",
    "    if i != ' ':\n",
    "        temp = temp+i  #until space it prints in the temo string then after encounter space, it sends that to list and then the loop moves forward with the next word and appends that \n",
    "    else:\n",
    "        L.append(temp)\n",
    "        temp = ''\n",
    "L.append(temp)\n",
    "print(L)\n",
    "    \n",
    "\n"
   ]
  },
  {
   "cell_type": "code",
   "execution_count": 39,
   "id": "1045bdf7-ff50-4bdd-be5a-544005a86b70",
   "metadata": {},
   "outputs": [
    {
     "name": "stdin",
     "output_type": "stream",
     "text": [
      "enter a string hi monne\n"
     ]
    },
    {
     "name": "stdout",
     "output_type": "stream",
     "text": [
      "Hi Monne\n"
     ]
    }
   ],
   "source": [
    "#write a program to convert a string to a title case without using title()\n",
    "s = input('enter a string')\n",
    "L = []\n",
    "for i in s.split():\n",
    "    L.append(i[0].upper() + i[1:].lower()) #make first letter uppercase and second element onwards lower itself\n",
    "\n",
    "print(\" \".join(L))\n"
   ]
  },
  {
   "cell_type": "code",
   "execution_count": 42,
   "id": "c7838903-b7cf-4819-bc68-b4e342669827",
   "metadata": {},
   "outputs": [
    {
     "name": "stdin",
     "output_type": "stream",
     "text": [
      "enter a number 1234\n"
     ]
    },
    {
     "name": "stdout",
     "output_type": "stream",
     "text": [
      "1234\n",
      "<class 'str'>\n"
     ]
    }
   ],
   "source": [
    "#write a program to convert an integer to string\n",
    "\n",
    "number = int(input(\"enter a number\"))\n",
    "\n",
    "digits = '0123456789'\n",
    "result = ''\n",
    "while number != 0:\n",
    "    result = digits[number % 10] + result  #split the input number and assign it with the index in the number string and print that \n",
    "    number = number//10\n",
    "print(result)\n",
    "print(type(result))"
   ]
  },
  {
   "cell_type": "code",
   "execution_count": 2,
   "id": "b3f2134e-e1d3-476b-aba8-9015bedc881f",
   "metadata": {},
   "outputs": [
    {
     "name": "stdout",
     "output_type": "stream",
     "text": [
      "1\n",
      "2\n",
      "3\n",
      "4\n",
      "5\n",
      "6\n",
      "7\n",
      "8\n",
      "9\n",
      "0.001035928726196289\n"
     ]
    }
   ],
   "source": [
    "#Measuring time (this method highly depends on the machine its running on, this is not used in industry standard)\n",
    "#different time for different algorithm(yes)\n",
    "#time varies if implementation changes(no)\n",
    "#does not work for extremely small input(no)\n",
    "#time varies for diff inputs,establish relationship(no)\n",
    "import time\n",
    "start = time.time()\n",
    "\n",
    "for i in range(1,10):\n",
    "    print(i)\n",
    "end = time.time()\n",
    "print(end-start)"
   ]
  },
  {
   "cell_type": "markdown",
   "id": "2ebb9b41-9f2c-4adf-8a47-f3f6ee0c2ede",
   "metadata": {},
   "source": [
    "### Counting operations\n",
    "###### assume these steps take constant time\n",
    "1. mathematical ops\n",
    "2. comparisons\n",
    "3. assignments\n",
    "4. accessing objs in memory\n",
    "\n",
    "then count the number of operations executed as function of size of input\n",
    "\n",
    "1. diff time for diff algo(yes)\n",
    "2. time varies if imp changes(no)\n",
    "3. diff machines diff time(yes)\n",
    "4. no clear def of which operation to count(no)\n",
    "5. time varies for diff inputes,but can establish r/SHIP(yes)"
   ]
  },
  {
   "cell_type": "markdown",
   "id": "4b4f0b1c-f224-466c-8370-1a8216b4b085",
   "metadata": {},
   "source": [
    "### What do we want?\n",
    "1. we want to evaluate algo\n",
    "2. we want to evaluate stability\n",
    "3. we want to evaluate in terms of input size\n"
   ]
  },
  {
   "cell_type": "markdown",
   "id": "e5fbc3d2-e4c8-4d02-9f76-5ba64f6af86b",
   "metadata": {},
   "source": [
    " ### ORDERS OF GROWTH  O()\n",
    " (*industry standard*)\n",
    "1. want to evaluate programs efficiency when  *input is very big*\n",
    "2. want to express the *growth of programs run time* ias input size grows\n",
    "3. want to put an *upper bound* on growth-as tight as possible (worst case more prominence)\n",
    "4. do not need to be precise\n",
    "5. we will look at largest factors in run time\n",
    "6. *generally we want tight upper bound on growth as function of size of i/p in worst case*\n",
    "\n",
    "* Find the number of operations\n",
    "* from the operation equation\n",
    "* ignore the additive and multiplicative constants\n"
   ]
  },
  {
   "cell_type": "code",
   "execution_count": 6,
   "id": "6e4933e9-1045-46f0-9dbe-1f67997bbd5f",
   "metadata": {},
   "outputs": [],
   "source": [
    "#example\n",
    "\n",
    "def fact(n):  \n",
    "    answer = 1  #operation 1\n",
    "    while n>1:  #opertation 2\n",
    "        answer *= n  # 2 operations in the same line\n",
    "        n -= 1       #2 operations in the same line\n",
    "    return answer\n",
    "# totaly 1+5n+1\n",
    "# 5n+2\n",
    "#5n\n",
    "#n (based on input, output increases or decreases n times)"
   ]
  },
  {
   "cell_type": "markdown",
   "id": "f56c3ba8-2354-46d2-814c-fa2bb6bf11cb",
   "metadata": {},
   "source": [
    "### Types of orders of growth (input - output relation)\n",
    "\n",
    "* Constant\n",
    "* Linear\n",
    "* Quadratic\n",
    "* logarithmic\n",
    "* n log n\n",
    "* exponential\n",
    "  "
   ]
  }
 ],
 "metadata": {
  "kernelspec": {
   "display_name": "Python 3 (ipykernel)",
   "language": "python",
   "name": "python3"
  },
  "language_info": {
   "codemirror_mode": {
    "name": "ipython",
    "version": 3
   },
   "file_extension": ".py",
   "mimetype": "text/x-python",
   "name": "python",
   "nbconvert_exporter": "python",
   "pygments_lexer": "ipython3",
   "version": "3.11.7"
  }
 },
 "nbformat": 4,
 "nbformat_minor": 5
}
